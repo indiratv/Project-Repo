{
 "cells": [
  {
   "cell_type": "code",
   "execution_count": 16,
   "metadata": {
    "collapsed": true
   },
   "outputs": [],
   "source": [
    "# Dependencies\n",
    "import numpy as np\n",
    "import pandas as pd\n",
    "import matplotlib.pyplot as plt\n",
    "import json\n",
    "import tweepy\n",
    "import time\n",
    "import csv\n",
    "import seaborn as sns\n",
    "from vaderSentiment.vaderSentiment import SentimentIntensityAnalyzer"
   ]
  },
  {
   "cell_type": "code",
   "execution_count": 17,
   "metadata": {
    "collapsed": true
   },
   "outputs": [],
   "source": [
    "filenames = [\"flightdata_jan16.csv\",\"flightdata_feb16.csv\",\"flightdata_mar16.csv\"]"
   ]
  },
  {
   "cell_type": "code",
   "execution_count": 18,
   "metadata": {
    "collapsed": true
   },
   "outputs": [],
   "source": [
    "combined_csv = pd.concat( [ pd.read_csv(f) for f in filenames ] )"
   ]
  },
  {
   "cell_type": "code",
   "execution_count": 19,
   "metadata": {
    "collapsed": true
   },
   "outputs": [],
   "source": [
    "combined_csv.to_csv( \"combined_csv.csv\", index=False )"
   ]
  },
  {
   "cell_type": "code",
   "execution_count": 20,
   "metadata": {},
   "outputs": [
    {
     "data": {
      "text/plain": [
       "YEAR                       int64\n",
       "MONTH                      int64\n",
       "DAY_OF_MONTH               int64\n",
       "DAY_OF_WEEK                int64\n",
       "FL_DATE                   object\n",
       "UNIQUE_CARRIER            object\n",
       "AIRLINE_ID                 int64\n",
       "CARRIER                   object\n",
       "FL_NUM                     int64\n",
       "ORIGIN_AIRPORT_ID          int64\n",
       "ORIGIN_AIRPORT_SEQ_ID      int64\n",
       "ORIGIN                    object\n",
       "ORIGIN_CITY_NAME          object\n",
       "ORIGIN_STATE_ABR          object\n",
       "DEST_AIRPORT_ID            int64\n",
       "DEST_AIRPORT_SEQ_ID        int64\n",
       "DEST                      object\n",
       "DEST_CITY_NAME            object\n",
       "DEST_STATE_ABR            object\n",
       "CRS_DEP_TIME               int64\n",
       "DEP_TIME                 float64\n",
       "DEP_DELAY_NEW            float64\n",
       "DEP_DEL15                float64\n",
       "TAXI_OUT                 float64\n",
       "WHEELS_OFF               float64\n",
       "WHEELS_ON                float64\n",
       "TAXI_IN                  float64\n",
       "CRS_ARR_TIME               int64\n",
       "ARR_TIME                 float64\n",
       "ARR_DELAY_NEW            float64\n",
       "ARR_DEL15                float64\n",
       "CANCELLED                float64\n",
       "CANCELLATION_CODE         object\n",
       "DIVERTED                 float64\n",
       "AIR_TIME                 float64\n",
       "FLIGHTS                  float64\n",
       "DISTANCE                 float64\n",
       "CARRIER_DELAY            float64\n",
       "WEATHER_DELAY            float64\n",
       "NAS_DELAY                float64\n",
       "SECURITY_DELAY           float64\n",
       "LATE_AIRCRAFT_DELAY      float64\n",
       "DIV_AIRPORT_LANDINGS       int64\n",
       "DIV_REACHED_DEST         float64\n",
       "DIV_ARR_DELAY            float64\n",
       "Unnamed: 45              float64\n",
       "dtype: object"
      ]
     },
     "execution_count": 20,
     "metadata": {},
     "output_type": "execute_result"
    }
   ],
   "source": [
    "combined_csv.dtypes"
   ]
  },
  {
   "cell_type": "code",
   "execution_count": 21,
   "metadata": {},
   "outputs": [
    {
     "data": {
      "text/html": [
       "<div>\n",
       "<style>\n",
       "    .dataframe thead tr:only-child th {\n",
       "        text-align: right;\n",
       "    }\n",
       "\n",
       "    .dataframe thead th {\n",
       "        text-align: left;\n",
       "    }\n",
       "\n",
       "    .dataframe tbody tr th {\n",
       "        vertical-align: top;\n",
       "    }\n",
       "</style>\n",
       "<table border=\"1\" class=\"dataframe\">\n",
       "  <thead>\n",
       "    <tr style=\"text-align: right;\">\n",
       "      <th></th>\n",
       "      <th>YEAR</th>\n",
       "      <th>MONTH</th>\n",
       "      <th>DAY_OF_MONTH</th>\n",
       "      <th>DAY_OF_WEEK</th>\n",
       "      <th>FL_DATE</th>\n",
       "      <th>UNIQUE_CARRIER</th>\n",
       "      <th>AIRLINE_ID</th>\n",
       "      <th>CARRIER</th>\n",
       "      <th>FL_NUM</th>\n",
       "      <th>ORIGIN_AIRPORT_ID</th>\n",
       "      <th>...</th>\n",
       "      <th>DISTANCE</th>\n",
       "      <th>CARRIER_DELAY</th>\n",
       "      <th>WEATHER_DELAY</th>\n",
       "      <th>NAS_DELAY</th>\n",
       "      <th>SECURITY_DELAY</th>\n",
       "      <th>LATE_AIRCRAFT_DELAY</th>\n",
       "      <th>DIV_AIRPORT_LANDINGS</th>\n",
       "      <th>DIV_REACHED_DEST</th>\n",
       "      <th>DIV_ARR_DELAY</th>\n",
       "      <th>Unnamed: 45</th>\n",
       "    </tr>\n",
       "  </thead>\n",
       "  <tbody>\n",
       "    <tr>\n",
       "      <th>0</th>\n",
       "      <td>2016</td>\n",
       "      <td>1</td>\n",
       "      <td>1</td>\n",
       "      <td>5</td>\n",
       "      <td>2016-01-01</td>\n",
       "      <td>DL</td>\n",
       "      <td>19790</td>\n",
       "      <td>DL</td>\n",
       "      <td>1248</td>\n",
       "      <td>11433</td>\n",
       "      <td>...</td>\n",
       "      <td>1979.0</td>\n",
       "      <td>NaN</td>\n",
       "      <td>NaN</td>\n",
       "      <td>NaN</td>\n",
       "      <td>NaN</td>\n",
       "      <td>NaN</td>\n",
       "      <td>0</td>\n",
       "      <td>NaN</td>\n",
       "      <td>NaN</td>\n",
       "      <td>NaN</td>\n",
       "    </tr>\n",
       "    <tr>\n",
       "      <th>1</th>\n",
       "      <td>2016</td>\n",
       "      <td>1</td>\n",
       "      <td>1</td>\n",
       "      <td>5</td>\n",
       "      <td>2016-01-01</td>\n",
       "      <td>DL</td>\n",
       "      <td>19790</td>\n",
       "      <td>DL</td>\n",
       "      <td>1251</td>\n",
       "      <td>10397</td>\n",
       "      <td>...</td>\n",
       "      <td>640.0</td>\n",
       "      <td>NaN</td>\n",
       "      <td>NaN</td>\n",
       "      <td>NaN</td>\n",
       "      <td>NaN</td>\n",
       "      <td>NaN</td>\n",
       "      <td>0</td>\n",
       "      <td>NaN</td>\n",
       "      <td>NaN</td>\n",
       "      <td>NaN</td>\n",
       "    </tr>\n",
       "    <tr>\n",
       "      <th>2</th>\n",
       "      <td>2016</td>\n",
       "      <td>1</td>\n",
       "      <td>1</td>\n",
       "      <td>5</td>\n",
       "      <td>2016-01-01</td>\n",
       "      <td>DL</td>\n",
       "      <td>19790</td>\n",
       "      <td>DL</td>\n",
       "      <td>1254</td>\n",
       "      <td>12892</td>\n",
       "      <td>...</td>\n",
       "      <td>1947.0</td>\n",
       "      <td>NaN</td>\n",
       "      <td>NaN</td>\n",
       "      <td>NaN</td>\n",
       "      <td>NaN</td>\n",
       "      <td>NaN</td>\n",
       "      <td>0</td>\n",
       "      <td>NaN</td>\n",
       "      <td>NaN</td>\n",
       "      <td>NaN</td>\n",
       "    </tr>\n",
       "    <tr>\n",
       "      <th>3</th>\n",
       "      <td>2016</td>\n",
       "      <td>1</td>\n",
       "      <td>1</td>\n",
       "      <td>5</td>\n",
       "      <td>2016-01-01</td>\n",
       "      <td>DL</td>\n",
       "      <td>19790</td>\n",
       "      <td>DL</td>\n",
       "      <td>1255</td>\n",
       "      <td>14869</td>\n",
       "      <td>...</td>\n",
       "      <td>1590.0</td>\n",
       "      <td>NaN</td>\n",
       "      <td>NaN</td>\n",
       "      <td>NaN</td>\n",
       "      <td>NaN</td>\n",
       "      <td>NaN</td>\n",
       "      <td>0</td>\n",
       "      <td>NaN</td>\n",
       "      <td>NaN</td>\n",
       "      <td>NaN</td>\n",
       "    </tr>\n",
       "    <tr>\n",
       "      <th>4</th>\n",
       "      <td>2016</td>\n",
       "      <td>1</td>\n",
       "      <td>1</td>\n",
       "      <td>5</td>\n",
       "      <td>2016-01-01</td>\n",
       "      <td>DL</td>\n",
       "      <td>19790</td>\n",
       "      <td>DL</td>\n",
       "      <td>1256</td>\n",
       "      <td>10849</td>\n",
       "      <td>...</td>\n",
       "      <td>874.0</td>\n",
       "      <td>72.0</td>\n",
       "      <td>0.0</td>\n",
       "      <td>52.0</td>\n",
       "      <td>0.0</td>\n",
       "      <td>0.0</td>\n",
       "      <td>0</td>\n",
       "      <td>NaN</td>\n",
       "      <td>NaN</td>\n",
       "      <td>NaN</td>\n",
       "    </tr>\n",
       "  </tbody>\n",
       "</table>\n",
       "<p>5 rows × 46 columns</p>\n",
       "</div>"
      ],
      "text/plain": [
       "   YEAR  MONTH  DAY_OF_MONTH  DAY_OF_WEEK     FL_DATE UNIQUE_CARRIER  \\\n",
       "0  2016      1             1            5  2016-01-01             DL   \n",
       "1  2016      1             1            5  2016-01-01             DL   \n",
       "2  2016      1             1            5  2016-01-01             DL   \n",
       "3  2016      1             1            5  2016-01-01             DL   \n",
       "4  2016      1             1            5  2016-01-01             DL   \n",
       "\n",
       "   AIRLINE_ID CARRIER  FL_NUM  ORIGIN_AIRPORT_ID     ...       DISTANCE  \\\n",
       "0       19790      DL    1248              11433     ...         1979.0   \n",
       "1       19790      DL    1251              10397     ...          640.0   \n",
       "2       19790      DL    1254              12892     ...         1947.0   \n",
       "3       19790      DL    1255              14869     ...         1590.0   \n",
       "4       19790      DL    1256              10849     ...          874.0   \n",
       "\n",
       "  CARRIER_DELAY WEATHER_DELAY NAS_DELAY  SECURITY_DELAY  LATE_AIRCRAFT_DELAY  \\\n",
       "0           NaN           NaN       NaN             NaN                  NaN   \n",
       "1           NaN           NaN       NaN             NaN                  NaN   \n",
       "2           NaN           NaN       NaN             NaN                  NaN   \n",
       "3           NaN           NaN       NaN             NaN                  NaN   \n",
       "4          72.0           0.0      52.0             0.0                  0.0   \n",
       "\n",
       "  DIV_AIRPORT_LANDINGS DIV_REACHED_DEST DIV_ARR_DELAY  Unnamed: 45  \n",
       "0                    0              NaN           NaN          NaN  \n",
       "1                    0              NaN           NaN          NaN  \n",
       "2                    0              NaN           NaN          NaN  \n",
       "3                    0              NaN           NaN          NaN  \n",
       "4                    0              NaN           NaN          NaN  \n",
       "\n",
       "[5 rows x 46 columns]"
      ]
     },
     "execution_count": 21,
     "metadata": {},
     "output_type": "execute_result"
    }
   ],
   "source": [
    "combined_csv.head()"
   ]
  },
  {
   "cell_type": "code",
   "execution_count": 24,
   "metadata": {},
   "outputs": [],
   "source": [
    "combined_csv .drop(['Unnamed: 45', 'WHEELS_OFF','TAXI_OUT', 'WHEELS_ON', 'TAXI_IN','ORIGIN_AIRPORT_SEQ_ID','DEST_AIRPORT_SEQ_ID'], axis=1, inplace=True)"
   ]
  },
  {
   "cell_type": "code",
   "execution_count": 25,
   "metadata": {},
   "outputs": [
    {
     "data": {
      "text/plain": [
       "YEAR                    1348838\n",
       "MONTH                   1348838\n",
       "DAY_OF_MONTH            1348838\n",
       "DAY_OF_WEEK             1348838\n",
       "FL_DATE                 1348838\n",
       "UNIQUE_CARRIER          1348838\n",
       "AIRLINE_ID              1348838\n",
       "CARRIER                 1348838\n",
       "FL_NUM                  1348838\n",
       "ORIGIN_AIRPORT_ID       1348838\n",
       "ORIGIN                  1348838\n",
       "ORIGIN_CITY_NAME        1348838\n",
       "ORIGIN_STATE_ABR        1348838\n",
       "DEST_AIRPORT_ID         1348838\n",
       "DEST                    1348838\n",
       "DEST_CITY_NAME          1348838\n",
       "DEST_STATE_ABR          1348838\n",
       "CRS_DEP_TIME            1348838\n",
       "DEP_TIME                1326275\n",
       "DEP_DELAY_NEW           1326275\n",
       "DEP_DEL15               1326275\n",
       "CRS_ARR_TIME            1348838\n",
       "ARR_TIME                1324903\n",
       "ARR_DELAY_NEW           1322681\n",
       "ARR_DEL15               1322681\n",
       "CANCELLED               1348838\n",
       "CANCELLATION_CODE         23221\n",
       "DIVERTED                1348838\n",
       "AIR_TIME                1322681\n",
       "FLIGHTS                 1348838\n",
       "DISTANCE                1348838\n",
       "CARRIER_DELAY            215131\n",
       "WEATHER_DELAY            215131\n",
       "NAS_DELAY                215131\n",
       "SECURITY_DELAY           215131\n",
       "LATE_AIRCRAFT_DELAY      215131\n",
       "DIV_AIRPORT_LANDINGS    1348838\n",
       "DIV_REACHED_DEST           2936\n",
       "DIV_ARR_DELAY              2222\n",
       "dtype: int64"
      ]
     },
     "execution_count": 25,
     "metadata": {},
     "output_type": "execute_result"
    }
   ],
   "source": [
    "combined_csv.count()"
   ]
  },
  {
   "cell_type": "code",
   "execution_count": 34,
   "metadata": {},
   "outputs": [],
   "source": [
    "#Filter out multi-stop flight trips\n",
    "combined_csv = combined_csv.loc[combined_csv[\"FLIGHTS\"]==1 ,:]"
   ]
  },
  {
   "cell_type": "code",
   "execution_count": 35,
   "metadata": {},
   "outputs": [],
   "source": [
    "#Seperate out state from Origin and Destination City\n",
    "combined_csv['ORIGIN_CITY_NAME']=combined_csv['ORIGIN_CITY_NAME'].apply(lambda x: x.split(',')[0])\n",
    "combined_csv['DEST_CITY_NAME']=combined_csv['DEST_CITY_NAME'].apply(lambda x: x.split(',')[0])"
   ]
  },
  {
   "cell_type": "code",
   "execution_count": 36,
   "metadata": {
    "collapsed": true
   },
   "outputs": [],
   "source": [
    "combined_csv.to_csv( \"janmar16.csv\", index=False )"
   ]
  }
 ],
 "metadata": {
  "kernelspec": {
   "display_name": "Python 3",
   "language": "python",
   "name": "python3"
  },
  "language_info": {
   "codemirror_mode": {
    "name": "ipython",
    "version": 3
   },
   "file_extension": ".py",
   "mimetype": "text/x-python",
   "name": "python",
   "nbconvert_exporter": "python",
   "pygments_lexer": "ipython3",
   "version": "3.6.3"
  }
 },
 "nbformat": 4,
 "nbformat_minor": 2
}
