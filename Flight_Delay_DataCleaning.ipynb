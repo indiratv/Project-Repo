{
 "cells": [
  {
   "cell_type": "code",
   "execution_count": 1,
   "metadata": {},
   "outputs": [],
   "source": [
    "# Dependencies\n",
    "import numpy as np\n",
    "import pandas as pd\n",
    "import matplotlib.pyplot as plt\n",
    "import json\n",
    "import tweepy\n",
    "import time\n",
    "import csv\n",
    "import seaborn as sns\n",
    "import SentimentIntensityAnalyzer"
   ]
  },
  {
   "cell_type": "code",
   "execution_count": 3,
   "metadata": {
    "collapsed": true
   },
   "outputs": [],
   "source": [
    "#list to hold filenames\n",
    "filenames = [\"flightdata_apr16.csv\",\"flightdata_may16.csv\",\"flightdata_june16.csv\"]"
   ]
  },
  {
   "cell_type": "code",
   "execution_count": 4,
   "metadata": {},
   "outputs": [
    {
     "name": "stderr",
     "output_type": "stream",
     "text": [
      "C:\\Users\\PDonw\\Anaconda3\\lib\\site-packages\\IPython\\core\\interactiveshell.py:2802: DtypeWarning: Columns (32) have mixed types. Specify dtype option on import or set low_memory=False.\n",
      "  if self.run_code(code, result):\n"
     ]
    }
   ],
   "source": [
    "#combined all 3 csv files.\n",
    "combined_csv = pd.concat( [ pd.read_csv(f) for f in filenames ] )\n"
   ]
  },
  {
   "cell_type": "code",
   "execution_count": 10,
   "metadata": {
    "collapsed": true
   },
   "outputs": [],
   "source": [
    "# exported file\n",
    "combined_csv.to_csv( \"combined_csv.csv\", index=False )"
   ]
  },
  {
   "cell_type": "code",
   "execution_count": 18,
   "metadata": {},
   "outputs": [
    {
     "data": {
      "text/plain": [
       "Index(['YEAR', 'MONTH', 'DAY_OF_MONTH', 'DAY_OF_WEEK', 'FL_DATE',\n",
       "       'UNIQUE_CARRIER', 'AIRLINE_ID', 'CARRIER', 'FL_NUM',\n",
       "       'ORIGIN_AIRPORT_ID', 'ORIGIN_AIRPORT_SEQ_ID', 'ORIGIN',\n",
       "       'ORIGIN_CITY_NAME', 'ORIGIN_STATE_ABR', 'DEST_AIRPORT_ID',\n",
       "       'DEST_AIRPORT_SEQ_ID', 'DEST', 'DEST_CITY_NAME', 'DEST_STATE_ABR',\n",
       "       'CRS_DEP_TIME', 'DEP_TIME', 'DEP_DELAY_NEW', 'DEP_DEL15', 'TAXI_OUT',\n",
       "       'WHEELS_OFF', 'WHEELS_ON', 'TAXI_IN', 'CRS_ARR_TIME', 'ARR_TIME',\n",
       "       'ARR_DELAY_NEW', 'ARR_DEL15', 'CANCELLED', 'CANCELLATION_CODE',\n",
       "       'DIVERTED', 'AIR_TIME', 'FLIGHTS', 'DISTANCE', 'CARRIER_DELAY',\n",
       "       'WEATHER_DELAY', 'NAS_DELAY', 'SECURITY_DELAY', 'LATE_AIRCRAFT_DELAY',\n",
       "       'DIV_AIRPORT_LANDINGS', 'DIV_REACHED_DEST', 'DIV_ARR_DELAY'],\n",
       "      dtype='object')"
      ]
     },
     "execution_count": 18,
     "metadata": {},
     "output_type": "execute_result"
    }
   ],
   "source": [
    "combined_csv.columns"
   ]
  },
  {
   "cell_type": "code",
   "execution_count": 11,
   "metadata": {},
   "outputs": [
    {
     "data": {
      "text/plain": [
       "YEAR                       int64\n",
       "MONTH                      int64\n",
       "DAY_OF_MONTH               int64\n",
       "DAY_OF_WEEK                int64\n",
       "FL_DATE                   object\n",
       "UNIQUE_CARRIER            object\n",
       "AIRLINE_ID                 int64\n",
       "CARRIER                   object\n",
       "FL_NUM                     int64\n",
       "ORIGIN_AIRPORT_ID          int64\n",
       "ORIGIN_AIRPORT_SEQ_ID      int64\n",
       "ORIGIN                    object\n",
       "ORIGIN_CITY_NAME          object\n",
       "ORIGIN_STATE_ABR          object\n",
       "DEST_AIRPORT_ID            int64\n",
       "DEST_AIRPORT_SEQ_ID        int64\n",
       "DEST                      object\n",
       "DEST_CITY_NAME            object\n",
       "DEST_STATE_ABR            object\n",
       "CRS_DEP_TIME               int64\n",
       "DEP_TIME                 float64\n",
       "DEP_DELAY_NEW            float64\n",
       "DEP_DEL15                float64\n",
       "TAXI_OUT                 float64\n",
       "WHEELS_OFF               float64\n",
       "WHEELS_ON                float64\n",
       "TAXI_IN                  float64\n",
       "CRS_ARR_TIME               int64\n",
       "ARR_TIME                 float64\n",
       "ARR_DELAY_NEW            float64\n",
       "ARR_DEL15                float64\n",
       "CANCELLED                float64\n",
       "CANCELLATION_CODE         object\n",
       "DIVERTED                 float64\n",
       "AIR_TIME                 float64\n",
       "FLIGHTS                  float64\n",
       "DISTANCE                 float64\n",
       "CARRIER_DELAY            float64\n",
       "WEATHER_DELAY            float64\n",
       "NAS_DELAY                float64\n",
       "SECURITY_DELAY           float64\n",
       "LATE_AIRCRAFT_DELAY      float64\n",
       "DIV_AIRPORT_LANDINGS       int64\n",
       "DIV_REACHED_DEST         float64\n",
       "DIV_ARR_DELAY            float64\n",
       "Unnamed: 45              float64\n",
       "dtype: object"
      ]
     },
     "execution_count": 11,
     "metadata": {},
     "output_type": "execute_result"
    }
   ],
   "source": [
    "combined_csv.dtypes"
   ]
  },
  {
   "cell_type": "code",
   "execution_count": 16,
   "metadata": {},
   "outputs": [
    {
     "data": {
      "text/plain": [
       "YEAR                     1420346\n",
       "MONTH                    1420346\n",
       "DAY_OF_MONTH             1420346\n",
       "DAY_OF_WEEK              1420346\n",
       "FL_DATE                  1420346\n",
       "UNIQUE_CARRIER           1420346\n",
       "AIRLINE_ID               1420346\n",
       "CARRIER                  1420346\n",
       "FL_NUM                   1420346\n",
       "ORIGIN_AIRPORT_ID        1420346\n",
       "ORIGIN_AIRPORT_SEQ_ID    1420346\n",
       "ORIGIN                   1420346\n",
       "ORIGIN_CITY_NAME         1420346\n",
       "ORIGIN_STATE_ABR         1420346\n",
       "DEST_AIRPORT_ID          1420346\n",
       "DEST_AIRPORT_SEQ_ID      1420346\n",
       "DEST                     1420346\n",
       "DEST_CITY_NAME           1420346\n",
       "DEST_STATE_ABR           1420346\n",
       "CRS_DEP_TIME             1420346\n",
       "DEP_TIME                 1411664\n",
       "DEP_DELAY_NEW            1411664\n",
       "DEP_DEL15                1411664\n",
       "TAXI_OUT                 1411272\n",
       "WHEELS_OFF               1411272\n",
       "WHEELS_ON                1410880\n",
       "TAXI_IN                  1410880\n",
       "CRS_ARR_TIME             1420346\n",
       "ARR_TIME                 1410880\n",
       "ARR_DELAY_NEW            1407700\n",
       "ARR_DEL15                1407700\n",
       "CANCELLED                1420346\n",
       "CANCELLATION_CODE           9127\n",
       "DIVERTED                 1420346\n",
       "AIR_TIME                 1407700\n",
       "FLIGHTS                  1420346\n",
       "DISTANCE                 1420346\n",
       "CARRIER_DELAY             217603\n",
       "WEATHER_DELAY             217603\n",
       "NAS_DELAY                 217603\n",
       "SECURITY_DELAY            217603\n",
       "LATE_AIRCRAFT_DELAY       217603\n",
       "DIV_AIRPORT_LANDINGS     1420346\n",
       "DIV_REACHED_DEST            3519\n",
       "DIV_ARR_DELAY               3180\n",
       "dtype: int64"
      ]
     },
     "execution_count": 16,
     "metadata": {},
     "output_type": "execute_result"
    }
   ],
   "source": [
    "#Cleaning the data\n",
    "#del combined_csv['Unnamed: 45']\n",
    "combined_csv.count()"
   ]
  },
  {
   "cell_type": "code",
   "execution_count": 17,
   "metadata": {},
   "outputs": [
    {
     "data": {
      "text/plain": [
       "YEAR                       int64\n",
       "MONTH                      int64\n",
       "DAY_OF_MONTH               int64\n",
       "DAY_OF_WEEK                int64\n",
       "FL_DATE                   object\n",
       "UNIQUE_CARRIER            object\n",
       "AIRLINE_ID                 int64\n",
       "CARRIER                   object\n",
       "FL_NUM                     int64\n",
       "ORIGIN_AIRPORT_ID          int64\n",
       "ORIGIN_AIRPORT_SEQ_ID      int64\n",
       "ORIGIN                    object\n",
       "ORIGIN_CITY_NAME          object\n",
       "ORIGIN_STATE_ABR          object\n",
       "DEST_AIRPORT_ID            int64\n",
       "DEST_AIRPORT_SEQ_ID        int64\n",
       "DEST                      object\n",
       "DEST_CITY_NAME            object\n",
       "DEST_STATE_ABR            object\n",
       "CRS_DEP_TIME               int64\n",
       "DEP_TIME                 float64\n",
       "DEP_DELAY_NEW            float64\n",
       "DEP_DEL15                float64\n",
       "TAXI_OUT                 float64\n",
       "WHEELS_OFF               float64\n",
       "WHEELS_ON                float64\n",
       "TAXI_IN                  float64\n",
       "CRS_ARR_TIME               int64\n",
       "ARR_TIME                 float64\n",
       "ARR_DELAY_NEW            float64\n",
       "ARR_DEL15                float64\n",
       "CANCELLED                float64\n",
       "CANCELLATION_CODE         object\n",
       "DIVERTED                 float64\n",
       "AIR_TIME                 float64\n",
       "FLIGHTS                  float64\n",
       "DISTANCE                 float64\n",
       "CARRIER_DELAY            float64\n",
       "WEATHER_DELAY            float64\n",
       "NAS_DELAY                float64\n",
       "SECURITY_DELAY           float64\n",
       "LATE_AIRCRAFT_DELAY      float64\n",
       "DIV_AIRPORT_LANDINGS       int64\n",
       "DIV_REACHED_DEST         float64\n",
       "DIV_ARR_DELAY            float64\n",
       "dtype: object"
      ]
     },
     "execution_count": 17,
     "metadata": {},
     "output_type": "execute_result"
    }
   ],
   "source": [
    "combined_csv.dtypes"
   ]
  },
  {
   "cell_type": "code",
   "execution_count": 19,
   "metadata": {},
   "outputs": [
    {
     "data": {
      "text/plain": [
       "Index(['YEAR', 'MONTH', 'DAY_OF_MONTH', 'DAY_OF_WEEK', 'FL_DATE',\n",
       "       'UNIQUE_CARRIER', 'AIRLINE_ID', 'CARRIER', 'FL_NUM',\n",
       "       'ORIGIN_AIRPORT_ID', 'ORIGIN_AIRPORT_SEQ_ID', 'ORIGIN',\n",
       "       'ORIGIN_CITY_NAME', 'ORIGIN_STATE_ABR', 'DEST_AIRPORT_ID',\n",
       "       'DEST_AIRPORT_SEQ_ID', 'DEST', 'DEST_CITY_NAME', 'DEST_STATE_ABR',\n",
       "       'CRS_DEP_TIME', 'DEP_TIME', 'DEP_DELAY_NEW', 'DEP_DEL15', 'TAXI_OUT',\n",
       "       'WHEELS_OFF', 'WHEELS_ON', 'TAXI_IN', 'CRS_ARR_TIME', 'ARR_TIME',\n",
       "       'ARR_DELAY_NEW', 'ARR_DEL15', 'CANCELLED', 'CANCELLATION_CODE',\n",
       "       'DIVERTED', 'AIR_TIME', 'FLIGHTS', 'DISTANCE', 'CARRIER_DELAY',\n",
       "       'WEATHER_DELAY', 'NAS_DELAY', 'SECURITY_DELAY', 'LATE_AIRCRAFT_DELAY',\n",
       "       'DIV_AIRPORT_LANDINGS', 'DIV_REACHED_DEST', 'DIV_ARR_DELAY'],\n",
       "      dtype='object')"
      ]
     },
     "execution_count": 19,
     "metadata": {},
     "output_type": "execute_result"
    }
   ],
   "source": [
    "combined_csv.columns"
   ]
  },
  {
   "cell_type": "code",
   "execution_count": 24,
   "metadata": {},
   "outputs": [
    {
     "data": {
      "text/plain": [
       "Index(['YEAR', 'MONTH', 'DAY_OF_MONTH', 'DAY_OF_WEEK', 'FL_DATE',\n",
       "       'UNIQUE_CARRIER', 'AIRLINE_ID', 'CARRIER', 'FL_NUM',\n",
       "       'ORIGIN_AIRPORT_ID', 'ORIGIN_AIRPORT_SEQ_ID', 'ORIGIN',\n",
       "       'ORIGIN_CITY_NAME', 'ORIGIN_STATE_ABR', 'DEST_AIRPORT_ID',\n",
       "       'DEST_AIRPORT_SEQ_ID', 'DEST', 'DEST_CITY_NAME', 'DEST_STATE_ABR',\n",
       "       'CRS_DEP_TIME', 'DEP_TIME', 'DEP_DELAY_NEW', 'DEP_DEL15', 'TAXI_OUT',\n",
       "       'TAXI_IN', 'CRS_ARR_TIME', 'ARR_TIME', 'ARR_DELAY_NEW', 'ARR_DEL15',\n",
       "       'CANCELLED', 'CANCELLATION_CODE', 'DIVERTED', 'AIR_TIME', 'FLIGHTS',\n",
       "       'DISTANCE', 'CARRIER_DELAY', 'WEATHER_DELAY', 'NAS_DELAY',\n",
       "       'SECURITY_DELAY', 'LATE_AIRCRAFT_DELAY', 'DIV_AIRPORT_LANDINGS',\n",
       "       'DIV_REACHED_DEST', 'DIV_ARR_DELAY'],\n",
       "      dtype='object')"
      ]
     },
     "execution_count": 24,
     "metadata": {},
     "output_type": "execute_result"
    }
   ],
   "source": [
    "#Cleaning the data.Drop Column taxi off, wheels off, taxi on,wheels on, \n",
    "#DEST_AIRPORT_SEQ_ID,DEST_AIRPORT_SEQ_ID,ORIGIN_AIRPORT_SEQ_ID\n",
    "del combined_csv['WHEELS_ON']\n",
    "combined_csv.columns"
   ]
  },
  {
   "cell_type": "code",
   "execution_count": 25,
   "metadata": {},
   "outputs": [
    {
     "data": {
      "text/plain": [
       "Index(['YEAR', 'MONTH', 'DAY_OF_MONTH', 'DAY_OF_WEEK', 'FL_DATE',\n",
       "       'UNIQUE_CARRIER', 'AIRLINE_ID', 'CARRIER', 'FL_NUM',\n",
       "       'ORIGIN_AIRPORT_ID', 'ORIGIN_AIRPORT_SEQ_ID', 'ORIGIN',\n",
       "       'ORIGIN_CITY_NAME', 'ORIGIN_STATE_ABR', 'DEST_AIRPORT_ID', 'DEST',\n",
       "       'DEST_CITY_NAME', 'DEST_STATE_ABR', 'CRS_DEP_TIME', 'DEP_TIME',\n",
       "       'DEP_DELAY_NEW', 'DEP_DEL15', 'TAXI_OUT', 'TAXI_IN', 'CRS_ARR_TIME',\n",
       "       'ARR_TIME', 'ARR_DELAY_NEW', 'ARR_DEL15', 'CANCELLED',\n",
       "       'CANCELLATION_CODE', 'DIVERTED', 'AIR_TIME', 'FLIGHTS', 'DISTANCE',\n",
       "       'CARRIER_DELAY', 'WEATHER_DELAY', 'NAS_DELAY', 'SECURITY_DELAY',\n",
       "       'LATE_AIRCRAFT_DELAY', 'DIV_AIRPORT_LANDINGS', 'DIV_REACHED_DEST',\n",
       "       'DIV_ARR_DELAY'],\n",
       "      dtype='object')"
      ]
     },
     "execution_count": 25,
     "metadata": {},
     "output_type": "execute_result"
    }
   ],
   "source": [
    "del combined_csv['DEST_AIRPORT_SEQ_ID']\n",
    "combined_csv.columns"
   ]
  },
  {
   "cell_type": "code",
   "execution_count": 26,
   "metadata": {},
   "outputs": [
    {
     "data": {
      "text/plain": [
       "Index(['YEAR', 'MONTH', 'DAY_OF_MONTH', 'DAY_OF_WEEK', 'FL_DATE',\n",
       "       'UNIQUE_CARRIER', 'AIRLINE_ID', 'CARRIER', 'FL_NUM',\n",
       "       'ORIGIN_AIRPORT_ID', 'ORIGIN', 'ORIGIN_CITY_NAME', 'ORIGIN_STATE_ABR',\n",
       "       'DEST_AIRPORT_ID', 'DEST', 'DEST_CITY_NAME', 'DEST_STATE_ABR',\n",
       "       'CRS_DEP_TIME', 'DEP_TIME', 'DEP_DELAY_NEW', 'DEP_DEL15', 'TAXI_OUT',\n",
       "       'TAXI_IN', 'CRS_ARR_TIME', 'ARR_TIME', 'ARR_DELAY_NEW', 'ARR_DEL15',\n",
       "       'CANCELLED', 'CANCELLATION_CODE', 'DIVERTED', 'AIR_TIME', 'FLIGHTS',\n",
       "       'DISTANCE', 'CARRIER_DELAY', 'WEATHER_DELAY', 'NAS_DELAY',\n",
       "       'SECURITY_DELAY', 'LATE_AIRCRAFT_DELAY', 'DIV_AIRPORT_LANDINGS',\n",
       "       'DIV_REACHED_DEST', 'DIV_ARR_DELAY'],\n",
       "      dtype='object')"
      ]
     },
     "execution_count": 26,
     "metadata": {},
     "output_type": "execute_result"
    }
   ],
   "source": [
    "del combined_csv['ORIGIN_AIRPORT_SEQ_ID']\n",
    "combined_csv.columns"
   ]
  },
  {
   "cell_type": "code",
   "execution_count": 27,
   "metadata": {},
   "outputs": [
    {
     "data": {
      "text/plain": [
       "YEAR                    1420346\n",
       "MONTH                   1420346\n",
       "DAY_OF_MONTH            1420346\n",
       "DAY_OF_WEEK             1420346\n",
       "FL_DATE                 1420346\n",
       "UNIQUE_CARRIER          1420346\n",
       "AIRLINE_ID              1420346\n",
       "CARRIER                 1420346\n",
       "FL_NUM                  1420346\n",
       "ORIGIN_AIRPORT_ID       1420346\n",
       "ORIGIN                  1420346\n",
       "ORIGIN_CITY_NAME        1420346\n",
       "ORIGIN_STATE_ABR        1420346\n",
       "DEST_AIRPORT_ID         1420346\n",
       "DEST                    1420346\n",
       "DEST_CITY_NAME          1420346\n",
       "DEST_STATE_ABR          1420346\n",
       "CRS_DEP_TIME            1420346\n",
       "DEP_TIME                1411664\n",
       "DEP_DELAY_NEW           1411664\n",
       "DEP_DEL15               1411664\n",
       "TAXI_OUT                1411272\n",
       "TAXI_IN                 1410880\n",
       "CRS_ARR_TIME            1420346\n",
       "ARR_TIME                1410880\n",
       "ARR_DELAY_NEW           1407700\n",
       "ARR_DEL15               1407700\n",
       "CANCELLED               1420346\n",
       "CANCELLATION_CODE          9127\n",
       "DIVERTED                1420346\n",
       "AIR_TIME                1407700\n",
       "FLIGHTS                 1420346\n",
       "DISTANCE                1420346\n",
       "CARRIER_DELAY            217603\n",
       "WEATHER_DELAY            217603\n",
       "NAS_DELAY                217603\n",
       "SECURITY_DELAY           217603\n",
       "LATE_AIRCRAFT_DELAY      217603\n",
       "DIV_AIRPORT_LANDINGS    1420346\n",
       "DIV_REACHED_DEST           3519\n",
       "DIV_ARR_DELAY              3180\n",
       "dtype: int64"
      ]
     },
     "execution_count": 27,
     "metadata": {},
     "output_type": "execute_result"
    }
   ],
   "source": [
    "combined_csv.count()"
   ]
  },
  {
   "cell_type": "code",
   "execution_count": 37,
   "metadata": {},
   "outputs": [
    {
     "data": {
      "text/plain": [
       "YEAR                      int64\n",
       "MONTH                     int64\n",
       "DAY_OF_MONTH              int64\n",
       "DAY_OF_WEEK               int64\n",
       "FL_DATE                  object\n",
       "UNIQUE_CARRIER           object\n",
       "AIRLINE_ID                int64\n",
       "CARRIER                  object\n",
       "FL_NUM                    int64\n",
       "ORIGIN_AIRPORT_ID         int64\n",
       "ORIGIN                   object\n",
       "ORIGIN_CITY_NAME         object\n",
       "ORIGIN_STATE_ABR         object\n",
       "DEST_AIRPORT_ID           int64\n",
       "DEST                     object\n",
       "DEST_CITY_NAME           object\n",
       "DEST_STATE_ABR           object\n",
       "CRS_DEP_TIME              int64\n",
       "DEP_TIME                float64\n",
       "DEP_DELAY_NEW           float64\n",
       "DEP_DEL15               float64\n",
       "CRS_ARR_TIME              int64\n",
       "ARR_TIME                float64\n",
       "ARR_DELAY_NEW           float64\n",
       "ARR_DEL15               float64\n",
       "CANCELLED               float64\n",
       "CANCELLATION_CODE        object\n",
       "DIVERTED                float64\n",
       "AIR_TIME                float64\n",
       "FLIGHTS                 float64\n",
       "DISTANCE                float64\n",
       "CARRIER_DELAY           float64\n",
       "WEATHER_DELAY           float64\n",
       "NAS_DELAY               float64\n",
       "SECURITY_DELAY          float64\n",
       "LATE_AIRCRAFT_DELAY     float64\n",
       "DIV_AIRPORT_LANDINGS      int64\n",
       "DIV_REACHED_DEST        float64\n",
       "DIV_ARR_DELAY           float64\n",
       "dtype: object"
      ]
     },
     "execution_count": 37,
     "metadata": {},
     "output_type": "execute_result"
    }
   ],
   "source": [
    "#combined_csv.drop([\"TAXI_OUT\",\"TAXI_IN\"], axis=1, inplace=True)\n",
    "#del combined_csv['TAXI_OUT']\n",
    "combined_csv.dtypes"
   ]
  },
  {
   "cell_type": "code",
   "execution_count": 38,
   "metadata": {
    "collapsed": true
   },
   "outputs": [],
   "source": [
    "# exported file\n",
    "combined_csv.to_csv( \"combined_csv.csv\", index=False )"
   ]
  },
  {
   "cell_type": "code",
   "execution_count": 47,
   "metadata": {},
   "outputs": [
    {
     "name": "stdout",
     "output_type": "stream",
     "text": [
      "YEAR                    1420347\n",
      "MONTH                   1420347\n",
      "DAY_OF_MONTH            1420347\n",
      "DAY_OF_WEEK             1420347\n",
      "FL_DATE                 1420347\n",
      "UNIQUE_CARRIER          1420347\n",
      "AIRLINE_ID              1420347\n",
      "CARRIER                 1420347\n",
      "FL_NUM                  1420347\n",
      "ORIGIN_AIRPORT_ID       1420347\n",
      "ORIGIN                  1420347\n",
      "ORIGIN_CITY_NAME        1420347\n",
      "ORIGIN_STATE_ABR        1420347\n",
      "DEST_AIRPORT_ID         1420347\n",
      "DEST                    1420347\n",
      "DEST_CITY_NAME          1420347\n",
      "DEST_STATE_ABR          1420347\n",
      "CRS_DEP_TIME            1420347\n",
      "DEP_TIME                1411665\n",
      "DEP_DELAY_NEW           1411665\n",
      "DEP_DEL15               1411665\n",
      "CRS_ARR_TIME            1420347\n",
      "ARR_TIME                1410881\n",
      "ARR_DELAY_NEW           1407701\n",
      "ARR_DEL15               1407701\n",
      "CANCELLED               1420347\n",
      "CANCELLATION_CODE          9128\n",
      "DIVERTED                1420347\n",
      "AIR_TIME                1407701\n",
      "FLIGHTS                 1420347\n",
      "DISTANCE                1420347\n",
      "CARRIER_DELAY            217604\n",
      "WEATHER_DELAY            217604\n",
      "NAS_DELAY                217604\n",
      "SECURITY_DELAY           217604\n",
      "LATE_AIRCRAFT_DELAY      217604\n",
      "DIV_AIRPORT_LANDINGS    1420347\n",
      "DIV_REACHED_DEST           3520\n",
      "DIV_ARR_DELAY              3181\n",
      "dtype: int64\n"
     ]
    }
   ],
   "source": [
    "total_rows = combined_csv.count()\n",
    "print(total_rows +1)"
   ]
  },
  {
   "cell_type": "code",
   "execution_count": 39,
   "metadata": {
    "collapsed": true
   },
   "outputs": [],
   "source": [
    "#Extract the data on origin_city\n",
    "combined_csv['ORIGIN_CITY_NAME']=combined_csv['ORIGIN_CITY_NAME'].apply(lambda x: x.split(',')[0])"
   ]
  },
  {
   "cell_type": "code",
   "execution_count": 40,
   "metadata": {
    "collapsed": true
   },
   "outputs": [],
   "source": [
    "#Extract the data on dest_city\n",
    "combined_csv['DEST_CITY_NAME']=combined_csv['DEST_CITY_NAME'].apply(lambda x: x.split(',')[0])"
   ]
  },
  {
   "cell_type": "code",
   "execution_count": 49,
   "metadata": {
    "collapsed": true
   },
   "outputs": [],
   "source": [
    "#Filter data on flight ==1 to filter off multi-stop trips - \n",
    "combined_csv = combined_csv.loc[combined_csv[\"FLIGHTS\"]==1 ,:]"
   ]
  },
  {
   "cell_type": "code",
   "execution_count": 50,
   "metadata": {
    "collapsed": true
   },
   "outputs": [],
   "source": [
    "# exported file\n",
    "combined_csv.to_csv( \"combined_csv.csv\", index=False )"
   ]
  },
  {
   "cell_type": "code",
   "execution_count": 51,
   "metadata": {},
   "outputs": [
    {
     "data": {
      "text/plain": [
       "YEAR                    1420346\n",
       "MONTH                   1420346\n",
       "DAY_OF_MONTH            1420346\n",
       "DAY_OF_WEEK             1420346\n",
       "FL_DATE                 1420346\n",
       "UNIQUE_CARRIER          1420346\n",
       "AIRLINE_ID              1420346\n",
       "CARRIER                 1420346\n",
       "FL_NUM                  1420346\n",
       "ORIGIN_AIRPORT_ID       1420346\n",
       "ORIGIN                  1420346\n",
       "ORIGIN_CITY_NAME        1420346\n",
       "ORIGIN_STATE_ABR        1420346\n",
       "DEST_AIRPORT_ID         1420346\n",
       "DEST                    1420346\n",
       "DEST_CITY_NAME          1420346\n",
       "DEST_STATE_ABR          1420346\n",
       "CRS_DEP_TIME            1420346\n",
       "DEP_TIME                1411664\n",
       "DEP_DELAY_NEW           1411664\n",
       "DEP_DEL15               1411664\n",
       "CRS_ARR_TIME            1420346\n",
       "ARR_TIME                1410880\n",
       "ARR_DELAY_NEW           1407700\n",
       "ARR_DEL15               1407700\n",
       "CANCELLED               1420346\n",
       "CANCELLATION_CODE          9127\n",
       "DIVERTED                1420346\n",
       "AIR_TIME                1407700\n",
       "FLIGHTS                 1420346\n",
       "DISTANCE                1420346\n",
       "CARRIER_DELAY            217603\n",
       "WEATHER_DELAY            217603\n",
       "NAS_DELAY                217603\n",
       "SECURITY_DELAY           217603\n",
       "LATE_AIRCRAFT_DELAY      217603\n",
       "DIV_AIRPORT_LANDINGS    1420346\n",
       "DIV_REACHED_DEST           3519\n",
       "DIV_ARR_DELAY              3180\n",
       "dtype: int64"
      ]
     },
     "execution_count": 51,
     "metadata": {},
     "output_type": "execute_result"
    }
   ],
   "source": [
    "combined_csv.count()"
   ]
  },
  {
   "cell_type": "code",
   "execution_count": 53,
   "metadata": {
    "collapsed": true
   },
   "outputs": [],
   "source": [
    "#Export file with new name with 3 combined months\n",
    "combined_csv.to_csv( \"aprjun16.csv\", index=False )"
   ]
  },
  {
   "cell_type": "code",
   "execution_count": null,
   "metadata": {
    "collapsed": true
   },
   "outputs": [],
   "source": []
  },
  {
   "cell_type": "code",
   "execution_count": null,
   "metadata": {
    "collapsed": true
   },
   "outputs": [],
   "source": []
  }
 ],
 "metadata": {
  "kernelspec": {
   "display_name": "Python 3",
   "language": "python",
   "name": "python3"
  },
  "language_info": {
   "codemirror_mode": {
    "name": "ipython",
    "version": 3
   },
   "file_extension": ".py",
   "mimetype": "text/x-python",
   "name": "python",
   "nbconvert_exporter": "python",
   "pygments_lexer": "ipython3",
   "version": "3.6.3"
  }
 },
 "nbformat": 4,
 "nbformat_minor": 2
}
